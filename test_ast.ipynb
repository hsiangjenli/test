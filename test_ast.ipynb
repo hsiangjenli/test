{
 "cells": [
  {
   "cell_type": "code",
   "execution_count": null,
   "metadata": {},
   "outputs": [],
   "source": [
    "import ast\n",
    "import toml\n",
    "\n",
    "with open(\"test_ast.py\", \"r\", encoding=\"utf-8\") as f:\n",
    "    code = f.read()\n",
    "\n",
    "\n",
    "ast_tree_grammars = toml.load(\"ast_tree.toml\")\n",
    "\n",
    "extractor_none = \"def {name} (**kwargs):\\n\\t return kwargs\"\n",
    "extractor_name = \"def {name} (**kwargs):\\n\\t type=dict(type='{type}') \\n\\t type.update(kwargs) \\n\\t return type\"\n",
    "\n",
    "for name, type in ast_tree_grammars.items():\n",
    "    if type:\n",
    "        exec(extractor_name.format(name=name, type=type))\n",
    "    else:\n",
    "        exec(extractor_name.format(name=name, type=\"pass\"))"
   ]
  },
  {
   "cell_type": "code",
   "execution_count": null,
   "metadata": {},
   "outputs": [],
   "source": [
    "ast_code = (\n",
    "    ast.dump(\n",
    "        node=ast.parse(code),\n",
    "        indent=4\n",
    "    )\n",
    ")"
   ]
  },
  {
   "cell_type": "code",
   "execution_count": null,
   "metadata": {},
   "outputs": [],
   "source": [
    "ast_dict = eval(ast_code)"
   ]
  },
  {
   "cell_type": "code",
   "execution_count": null,
   "metadata": {},
   "outputs": [],
   "source": [
    "def recursive_function(input, max_depth, depth=0): \n",
    "    if depth > max_depth: # 如果超過最大深度，就終止遞歸 \n",
    "        return \n",
    "    elif isinstance(input, dict): # 如果輸入是字典，就打印1 \n",
    "        if input['type'] != 'pass': print(f\"{input['type']} {input['name']}\") \n",
    "        try:\n",
    "            if isinstance(input['body'], list): # 如果輸入是列表，就對每個元素進行遞歸，深度加1 \n",
    "                for element in input['body']: \n",
    "                    recursive_function(element, max_depth, depth+1)\n",
    "        except:\n",
    "            pass"
   ]
  },
  {
   "cell_type": "code",
   "execution_count": null,
   "metadata": {},
   "outputs": [],
   "source": [
    "recursive_function(input=ast_dict, max_depth=3)"
   ]
  },
  {
   "cell_type": "code",
   "execution_count": null,
   "metadata": {},
   "outputs": [],
   "source": [
    "print(ast_code)"
   ]
  },
  {
   "cell_type": "code",
   "execution_count": null,
   "metadata": {},
   "outputs": [],
   "source": [
    "def walk(ast_body, deep=1, max_deep=3):\n",
    "\n",
    "    if isinstance(ast_body, dict):\n",
    "        print(ast_body['type'])\n",
    "    try:\n",
    "        if isinstance(ast_body['body'], list):\n",
    "            for body in ast_body['body']:\n",
    "                walk(ast_body=ast_body['body'], deep=deep+1)\n",
    "    except:\n",
    "        pass"
   ]
  },
  {
   "cell_type": "code",
   "execution_count": null,
   "metadata": {},
   "outputs": [],
   "source": [
    "walk(ast_body=ast_dict['body'])"
   ]
  },
  {
   "cell_type": "code",
   "execution_count": null,
   "metadata": {},
   "outputs": [],
   "source": [
    "for content in ast_dict['body']:\n",
    "    print(content)"
   ]
  },
  {
   "cell_type": "code",
   "execution_count": null,
   "metadata": {},
   "outputs": [],
   "source": [
    "content['body']"
   ]
  },
  {
   "cell_type": "code",
   "execution_count": null,
   "metadata": {},
   "outputs": [],
   "source": []
  }
 ],
 "metadata": {
  "kernelspec": {
   "display_name": "base",
   "language": "python",
   "name": "python3"
  },
  "language_info": {
   "codemirror_mode": {
    "name": "ipython",
    "version": 3
   },
   "file_extension": ".py",
   "mimetype": "text/x-python",
   "name": "python",
   "nbconvert_exporter": "python",
   "pygments_lexer": "ipython3",
   "version": "3.9.13"
  },
  "orig_nbformat": 4
 },
 "nbformat": 4,
 "nbformat_minor": 2
}
